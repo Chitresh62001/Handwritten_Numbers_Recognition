{
  "nbformat": 4,
  "nbformat_minor": 0,
  "metadata": {
    "colab": {
      "provenance": []
    },
    "kernelspec": {
      "name": "python3",
      "display_name": "Python 3"
    },
    "language_info": {
      "name": "python"
    }
  },
  "cells": [
    {
      "cell_type": "code",
      "execution_count": 4,
      "metadata": {
        "id": "pFYdDCRedvWK"
      },
      "outputs": [],
      "source": [
        "import tensorflow as tf\n",
        "import numpy as np\n",
        "import matplotlib.pyplot as plt\n",
        "import pandas as pd\n",
        "from tensorflow import keras"
      ]
    },
    {
      "cell_type": "code",
      "source": [
        "(x_train, y_train), (x_test, y_test) = keras.datasets.mnist.load_data()"
      ],
      "metadata": {
        "id": "Cm0wy39_d6CX"
      },
      "execution_count": 127,
      "outputs": []
    },
    {
      "cell_type": "code",
      "source": [
        "x_train = x_train/255\n",
        "x_test = x_test/255"
      ],
      "metadata": {
        "id": "m446oitMl4yo"
      },
      "execution_count": 128,
      "outputs": []
    },
    {
      "cell_type": "code",
      "source": [
        "x_train.shape"
      ],
      "metadata": {
        "colab": {
          "base_uri": "https://localhost:8080/"
        },
        "id": "2JY59DMKuZTE",
        "outputId": "7d52e10d-2ac0-4e1a-d35f-e293661188c6"
      },
      "execution_count": 139,
      "outputs": [
        {
          "output_type": "execute_result",
          "data": {
            "text/plain": [
              "(60000, 28, 28)"
            ]
          },
          "metadata": {},
          "execution_count": 139
        }
      ]
    },
    {
      "cell_type": "code",
      "source": [
        "model = keras.Sequential([\n",
        "      keras.layers.Flatten(input_shape=(28,28)),\n",
        "      keras.layers.Dense(10,activation='softmax')\n",
        "      ])\n",
        "\n",
        "def compile_model(model):\n",
        "  opt = tf.keras.optimizers.RMSprop()\n",
        "  model.compile(\n",
        "      optimizer=opt,\n",
        "      loss='sparse_categorical_crossentropy',\n",
        "      metrics=['accuracy']\n",
        "      )\n",
        "  return(model.fit(x_train, y_train, epochs=5,\n",
        "                   validation_data=(x_test,y_test)))"
      ],
      "metadata": {
        "id": "B8j-6bebfQjg"
      },
      "execution_count": 152,
      "outputs": []
    },
    {
      "cell_type": "code",
      "source": [
        "compile_model(model)"
      ],
      "metadata": {
        "colab": {
          "base_uri": "https://localhost:8080/"
        },
        "id": "8gX_hKjmg9Ai",
        "outputId": "29ba7da9-f883-4d3f-94f4-aa90d31fbffe"
      },
      "execution_count": 153,
      "outputs": [
        {
          "output_type": "stream",
          "name": "stdout",
          "text": [
            "Epoch 1/5\n",
            "1875/1875 [==============================] - 15s 7ms/step - loss: 0.4423 - accuracy: 0.8824 - val_loss: 0.3041 - val_accuracy: 0.9151\n",
            "Epoch 2/5\n",
            "1875/1875 [==============================] - 8s 4ms/step - loss: 0.3039 - accuracy: 0.9155 - val_loss: 0.2904 - val_accuracy: 0.9199\n",
            "Epoch 3/5\n",
            "1875/1875 [==============================] - 8s 4ms/step - loss: 0.2903 - accuracy: 0.9198 - val_loss: 0.2823 - val_accuracy: 0.9258\n",
            "Epoch 4/5\n",
            "1875/1875 [==============================] - 8s 4ms/step - loss: 0.2838 - accuracy: 0.9225 - val_loss: 0.2777 - val_accuracy: 0.9253\n",
            "Epoch 5/5\n",
            "1875/1875 [==============================] - 10s 5ms/step - loss: 0.2801 - accuracy: 0.9245 - val_loss: 0.2780 - val_accuracy: 0.9255\n"
          ]
        },
        {
          "output_type": "execute_result",
          "data": {
            "text/plain": [
              "<keras.callbacks.History at 0x7f1f7170ca60>"
            ]
          },
          "metadata": {},
          "execution_count": 153
        }
      ]
    },
    {
      "cell_type": "code",
      "source": [
        "model.evaluate(x_test, y_test)"
      ],
      "metadata": {
        "colab": {
          "base_uri": "https://localhost:8080/"
        },
        "id": "6B6-ucPSkKcj",
        "outputId": "a16d364b-363d-4754-ae64-1f474e2f8359"
      },
      "execution_count": 154,
      "outputs": [
        {
          "output_type": "stream",
          "name": "stdout",
          "text": [
            "313/313 [==============================] - 1s 2ms/step - loss: 0.2780 - accuracy: 0.9255\n"
          ]
        },
        {
          "output_type": "execute_result",
          "data": {
            "text/plain": [
              "[0.27803951501846313, 0.9254999756813049]"
            ]
          },
          "metadata": {},
          "execution_count": 154
        }
      ]
    },
    {
      "cell_type": "code",
      "source": [
        "pred = model.predict(x_test)"
      ],
      "metadata": {
        "colab": {
          "base_uri": "https://localhost:8080/"
        },
        "id": "v6gG-o88lBJL",
        "outputId": "3f468910-4d26-4817-910d-f0e3692c7978"
      },
      "execution_count": 158,
      "outputs": [
        {
          "output_type": "stream",
          "name": "stdout",
          "text": [
            "313/313 [==============================] - 2s 8ms/step\n"
          ]
        }
      ]
    },
    {
      "cell_type": "code",
      "source": [
        "predicted_values = [np.argmax(i) for i in pred]"
      ],
      "metadata": {
        "id": "y9Kkxx-NlGFR"
      },
      "execution_count": 159,
      "outputs": []
    },
    {
      "cell_type": "code",
      "source": [
        "print(predicted_values)\n",
        "y_test[:5]"
      ],
      "metadata": {
        "colab": {
          "base_uri": "https://localhost:8080/"
        },
        "id": "GYS3bh0elVnr",
        "outputId": "e26d1ca6-4958-4121-cb3a-9662584bcd9e"
      },
      "execution_count": 91,
      "outputs": [
        {
          "output_type": "stream",
          "name": "stdout",
          "text": [
            "[7, 2, 1, 0, 4]\n"
          ]
        },
        {
          "output_type": "execute_result",
          "data": {
            "text/plain": [
              "array([7, 2, 1, 0, 4], dtype=uint8)"
            ]
          },
          "metadata": {},
          "execution_count": 91
        }
      ]
    },
    {
      "cell_type": "code",
      "source": [
        "model0 = keras.Sequential([\n",
        "    keras.layers.Flatten(input_shape=(28,28)),\n",
        "    keras.layers.Dense(512,activation='relu'),\n",
        "    keras.layers.Dense(512,activation='relu'),\n",
        "    keras.layers.Dense(10,activation='softmax')\n",
        "])\n",
        "\n",
        "compile_model(model0)"
      ],
      "metadata": {
        "colab": {
          "base_uri": "https://localhost:8080/"
        },
        "id": "1ycGflQ9izW_",
        "outputId": "90bd7ff0-715d-46a4-e4d2-3d4ea427f664"
      },
      "execution_count": 155,
      "outputs": [
        {
          "output_type": "stream",
          "name": "stdout",
          "text": [
            "Epoch 1/5\n",
            "1875/1875 [==============================] - 42s 22ms/step - loss: 0.1875 - accuracy: 0.9433 - val_loss: 0.1057 - val_accuracy: 0.9676\n",
            "Epoch 2/5\n",
            "1875/1875 [==============================] - 41s 22ms/step - loss: 0.0856 - accuracy: 0.9757 - val_loss: 0.0835 - val_accuracy: 0.9767\n",
            "Epoch 3/5\n",
            "1875/1875 [==============================] - 41s 22ms/step - loss: 0.0602 - accuracy: 0.9829 - val_loss: 0.0784 - val_accuracy: 0.9793\n",
            "Epoch 4/5\n",
            "1875/1875 [==============================] - 41s 22ms/step - loss: 0.0483 - accuracy: 0.9868 - val_loss: 0.0917 - val_accuracy: 0.9788\n",
            "Epoch 5/5\n",
            "1875/1875 [==============================] - 43s 23ms/step - loss: 0.0365 - accuracy: 0.9900 - val_loss: 0.1134 - val_accuracy: 0.9784\n"
          ]
        },
        {
          "output_type": "execute_result",
          "data": {
            "text/plain": [
              "<keras.callbacks.History at 0x7f1f7144e7c0>"
            ]
          },
          "metadata": {},
          "execution_count": 155
        }
      ]
    },
    {
      "cell_type": "code",
      "source": [
        "model0.evaluate(x_test, y_test)"
      ],
      "metadata": {
        "colab": {
          "base_uri": "https://localhost:8080/"
        },
        "id": "hnl4LJLJp-zo",
        "outputId": "3923f0d6-9e5d-4165-ef6c-ee77ad99cced"
      },
      "execution_count": 156,
      "outputs": [
        {
          "output_type": "stream",
          "name": "stdout",
          "text": [
            "313/313 [==============================] - 6s 18ms/step - loss: 0.1134 - accuracy: 0.9784\n"
          ]
        },
        {
          "output_type": "execute_result",
          "data": {
            "text/plain": [
              "[0.11340850591659546, 0.9783999919891357]"
            ]
          },
          "metadata": {},
          "execution_count": 156
        }
      ]
    },
    {
      "cell_type": "code",
      "source": [
        "y_pred = model0.predict(x_test)"
      ],
      "metadata": {
        "colab": {
          "base_uri": "https://localhost:8080/"
        },
        "id": "YTfHjBFzp3IA",
        "outputId": "f70b913e-1b0b-4dba-afde-92587714d1e0"
      },
      "execution_count": 163,
      "outputs": [
        {
          "output_type": "stream",
          "name": "stdout",
          "text": [
            "313/313 [==============================] - 2s 5ms/step\n"
          ]
        }
      ]
    },
    {
      "cell_type": "code",
      "source": [
        "hiddenlayer_pred = [np.argmax(i) for i in y_pred]"
      ],
      "metadata": {
        "id": "Q4NcOeIexOXB"
      },
      "execution_count": 164,
      "outputs": []
    },
    {
      "cell_type": "code",
      "source": [
        "confusion_matrix = tf.math.confusion_matrix(labels = y_test, predictions = predicted_values)\n",
        "confusion_matrix"
      ],
      "metadata": {
        "colab": {
          "base_uri": "https://localhost:8080/"
        },
        "id": "IV2xS3UojKF3",
        "outputId": "16e2d6c5-0d7c-403d-80b9-0eada0691a9b"
      },
      "execution_count": 160,
      "outputs": [
        {
          "output_type": "execute_result",
          "data": {
            "text/plain": [
              "<tf.Tensor: shape=(10, 10), dtype=int32, numpy=\n",
              "array([[ 964,    0,    0,    1,    0,    4,    8,    2,    1,    0],\n",
              "       [   0, 1115,    2,    2,    0,    1,    4,    2,    9,    0],\n",
              "       [   6,    9,  913,   20,    8,    6,   11,   11,   45,    3],\n",
              "       [   4,    0,   19,  926,    0,   19,    2,   11,   22,    7],\n",
              "       [   2,    2,    2,    2,  921,    0,   12,    2,    9,   30],\n",
              "       [  10,    2,    3,   36,   11,  768,   17,    6,   34,    5],\n",
              "       [  12,    3,    6,    1,    8,   13,  910,    2,    3,    0],\n",
              "       [   2,    6,   23,    7,    9,    0,    0,  948,    5,   28],\n",
              "       [   5,    7,    6,   22,    9,   26,   10,   11,  876,    2],\n",
              "       [  10,    7,    1,   12,   31,    6,    0,   20,    8,  914]],\n",
              "      dtype=int32)>"
            ]
          },
          "metadata": {},
          "execution_count": 160
        }
      ]
    },
    {
      "cell_type": "code",
      "source": [
        "h_confusion_mat = tf.math.confusion_matrix(labels = y_test, predictions = hiddenlayer_pred)\n",
        "h_confusion_mat"
      ],
      "metadata": {
        "colab": {
          "base_uri": "https://localhost:8080/"
        },
        "id": "zyaN1rMnwy7g",
        "outputId": "8f73281c-6333-42c4-9f69-a0c38874180a"
      },
      "execution_count": 166,
      "outputs": [
        {
          "output_type": "execute_result",
          "data": {
            "text/plain": [
              "<tf.Tensor: shape=(10, 10), dtype=int32, numpy=\n",
              "array([[ 967,    2,    1,    0,    3,    0,    2,    3,    0,    2],\n",
              "       [   0, 1129,    0,    0,    0,    2,    1,    2,    1,    0],\n",
              "       [   2,    5,  997,    3,    3,    0,    5,   15,    2,    0],\n",
              "       [   0,    0,    2,  987,    0,    1,    0,    9,    1,   10],\n",
              "       [   0,    1,    3,    0,  959,    0,    4,    7,    1,    7],\n",
              "       [   2,    1,    0,    6,    1,  872,    1,    1,    3,    5],\n",
              "       [   1,    3,    0,    0,    7,   13,  929,    0,    5,    0],\n",
              "       [   0,    1,    3,    0,    0,    0,    0, 1018,    1,    5],\n",
              "       [   5,    1,    2,    7,    4,    5,    1,    5,  937,    7],\n",
              "       [   1,    4,    0,    1,    5,    1,    0,    8,    0,  989]],\n",
              "      dtype=int32)>"
            ]
          },
          "metadata": {},
          "execution_count": 166
        }
      ]
    },
    {
      "cell_type": "code",
      "source": [
        "import seaborn as sns\n",
        "sns.heatmap(confusion_matrix, annot=True, fmt='d')\n",
        "plt.xlabel('predicted')\n",
        "plt.ylabel('given')"
      ],
      "metadata": {
        "colab": {
          "base_uri": "https://localhost:8080/",
          "height": 296
        },
        "id": "xfFZb3QpnBsH",
        "outputId": "5b37d3d7-b015-4a28-f673-453b1534c516"
      },
      "execution_count": 161,
      "outputs": [
        {
          "output_type": "execute_result",
          "data": {
            "text/plain": [
              "Text(33.0, 0.5, 'given')"
            ]
          },
          "metadata": {},
          "execution_count": 161
        },
        {
          "output_type": "display_data",
          "data": {
            "text/plain": [
              "<Figure size 432x288 with 2 Axes>"
            ],
            "image/png": "[encoded data removed]"
          },
          "metadata": {
            "needs_background": "light"
          }
        }
      ]
    },
    {
      "cell_type": "code",
      "source": [
        "sns.heatmap(h_confusion_mat, annot=True, fmt='d')\n",
        "plt.xlabel('predicted')\n",
        "plt.ylabel('given')"
      ],
      "metadata": {
        "colab": {
          "base_uri": "https://localhost:8080/",
          "height": 296
        },
        "id": "bN8RCp8mnO6e",
        "outputId": "5f74dec2-4bf9-4969-976f-3524b1b71cc5"
      },
      "execution_count": 167,
      "outputs": [
        {
          "output_type": "execute_result",
          "data": {
            "text/plain": [
              "Text(33.0, 0.5, 'given')"
            ]
          },
          "metadata": {},
          "execution_count": 167
        },
        {
          "output_type": "display_data",
          "data": {
            "text/plain": [
              "<Figure size 432x288 with 2 Axes>"
            ],
            "image/png": "[encoded data removed]"
          },
          "metadata": {
            "needs_background": "light"
          }
        }
      ]
    },
    {
      "cell_type": "code",
      "source": [],
      "metadata": {
        "id": "SMAHOuX4xmwV"
      },
      "execution_count": null,
      "outputs": []
    }
  ]
}